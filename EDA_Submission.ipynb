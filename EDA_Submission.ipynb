{
  "nbformat": 4,
  "nbformat_minor": 0,
  "metadata": {
    "colab": {
      "private_outputs": true,
      "provenance": [],
      "collapsed_sections": [
        "0wOQAZs5pc--",
        "t6dVpIINYklI",
        "EM7whBJCYoAo",
        "4Of9eVA-YrdM",
        "bamQiAODYuh1",
        "OH-pJp9IphqM",
        "NC_X3p0fY2L0",
        "gIfDvo9L0UH2"
      ],
      "include_colab_link": true
    },
    "kernelspec": {
      "name": "python3",
      "display_name": "Python 3"
    },
    "language_info": {
      "name": "python"
    }
  },
  "cells": [
    {
      "cell_type": "markdown",
      "metadata": {
        "id": "view-in-github",
        "colab_type": "text"
      },
      "source": [
        "<a href=\"https://colab.research.google.com/github/yogesh1199/Projects/blob/main/EDA_Submission.ipynb\" target=\"_parent\"><img src=\"https://colab.research.google.com/assets/colab-badge.svg\" alt=\"Open In Colab\"/></a>"
      ]
    },
    {
      "cell_type": "markdown",
      "source": [
        "# **Project Name**    - **TELECOM CHURN ANALYSIS**\n",
        "\n"
      ],
      "metadata": {
        "id": "vncDsAP0Gaoa"
      }
    },
    {
      "cell_type": "markdown",
      "source": [
        "##### **Project Type**    - EDA\n",
        "##### **Contribution**    - Individual\n",
        "##### **Team Member** -*Yogesh Sharma*"
      ],
      "metadata": {
        "id": "beRrZCGUAJYm"
      }
    },
    {
      "cell_type": "markdown",
      "source": [
        "# **Project Summary -**"
      ],
      "metadata": {
        "id": "FJNUwmbgGyua"
      }
    },
    {
      "cell_type": "markdown",
      "source": [
        "Write the summary here within 500-600 words."
      ],
      "metadata": {
        "id": "F6v_1wHtG2nS"
      }
    },
    {
      "cell_type": "markdown",
      "source": [
        "**The Orange Telecom Churn Dataset** provides valuable insights into customer behavior and factors contributing to churn in the telecommunications industry. This analysis aims to uncover key patterns, identify potential reasons for customer churn, and propose recommendations to enhance customer retention strategies.\n",
        "\n",
        "The dataset comprises several important features that offer a comprehensive view of customer activity and behavior:\n",
        "\n",
        "**State and Area Code**: These columns represent the geographic location of the customers. While state information might indicate regional variations, area codes could provide insights into localized patterns.\n",
        "\n",
        "**Account Length**: This feature represents the duration for which a customer has subscribed to the service. Longer account lengths might indicate customer loyalty and satisfaction.\n",
        "\n",
        "**International Plan and Voice Mail Plan**: These categorical features highlight whether customers have subscribed to additional services. Customers with an international plan might be less likely to churn due to having specific needs that the plan addresses. On the other hand, the voice mail plan might indicate engagement and communication.\n",
        "\n",
        "**Number of Voice Mail Messages**: This metric indicates how actively customers engage with voice mail services. Higher engagement might indicate better communication and satisfaction.\n",
        "\n",
        "**Total Day, Evening, and Night Minutes, Calls, and Charges**: These metrics reflect the extent of customer engagement at different times of the day. Unusually high charges or call volumes might indicate dissatisfaction.\n",
        "\n",
        "**Total International Minutes, Calls, and Charges**: Similar to domestic calls, international calls and charges can offer insights into specialized customer needs and their satisfaction level.\n",
        "\n",
        "**Customer Service Calls**: The number of calls made to customer service is an important indicator. Frequent calls might signify unresolved issues, which could contribute to churn.\n",
        "\n",
        "**Churn**: This binary label indicates whether a customer has churned or not. This is the target variable that we aim to predict and understand the contributing factors.\n",
        "\n",
        "\n",
        "Analyzing this data requires a multi-faceted approach, involving exploratory data analysis and predictive modeling:\n",
        "\n",
        "**Exploratory Data Analysis (EDA)**:\n",
        "By visually exploring distributions, correlations, and trends within the data, we can uncover valuable insights. For instance, we could visualize the distribution of customer service calls and their relationship with churn. EDA might reveal that customers with more service calls are more likely to churn."
      ],
      "metadata": {
        "id": "qN-R22ihTPdJ"
      }
    },
    {
      "cell_type": "markdown",
      "source": [
        "# **GitHub Link -**"
      ],
      "metadata": {
        "id": "w6K7xa23Elo4"
      }
    },
    {
      "cell_type": "markdown",
      "source": [
        "Provide your GitHub Link here.\n",
        "\n",
        "https://github.com/yogesh1199/Projects"
      ],
      "metadata": {
        "id": "h1o69JH3Eqqn"
      }
    },
    {
      "cell_type": "markdown",
      "source": [
        "# **Problem Statement**\n"
      ],
      "metadata": {
        "id": "yQaldy8SH6Dl"
      }
    },
    {
      "cell_type": "markdown",
      "source": [
        "**The Orange Telecom Churn Dataset** provides valuable insights into customer behavior and factors contributing to churn in the telecommunications industry. Churn, in this context, refers to the phenomenon where customers cancel their subscriptions to the telecom service. This analysis aims to uncover key patterns, identify potential reasons for customer churn, and propose recommendations to enhance customer retention strategies.\n",
        "\n",
        "The dataset comprises a variety of columns that offer insights into customer activity and behavior, including state, account length, area code, international plan, voice mail plan, usage metrics during different times of the day and night, customer service calls, and the churn status.\n",
        "\n",
        "The goal of this analysis is to understand the factors that contribute to customer churn and provide actionable insights to the telecom company. By analyzing the dataset, we will explore correlations between different features and the likelihood of churn.\n",
        "\n"
      ],
      "metadata": {
        "id": "DpeJGUA3kjGy"
      }
    },
    {
      "cell_type": "markdown",
      "source": [
        "#### **Define Your Business Objective?**"
      ],
      "metadata": {
        "id": "PH-0ReGfmX4f"
      }
    },
    {
      "cell_type": "markdown",
      "source": [
        "we will Perform Exploratory Data Analysis (EDA) to understand the distribution of features, identify patterns, and visualize relationships between variables.\n",
        "Identify correlations and patterns associated with churn. Which features are strongly correlated with churn?\n",
        "\n",
        "we will provide the telecom company with insights that can guide their business decisions, customer communication strategies, and overall customer experience enhancement.\n",
        "\n",
        "This analysis will not only contribute to reducing customer churn but also help the company tailor its services to meet the needs of its customers more effectively."
      ],
      "metadata": {
        "id": "PhDvGCAqmjP1"
      }
    },
    {
      "cell_type": "markdown",
      "source": [
        "# **General Guidelines** : -  "
      ],
      "metadata": {
        "id": "mDgbUHAGgjLW"
      }
    },
    {
      "cell_type": "markdown",
      "source": [
        "1.   Well-structured, formatted, and commented code is required.\n",
        "2.   Exception Handling, Production Grade Code & Deployment Ready Code will be a plus. Those students will be awarded some additional credits.\n",
        "     \n",
        "     The additional credits will have advantages over other students during Star Student selection.\n",
        "       \n",
        "             [ Note: - Deployment Ready Code is defined as, the whole .ipynb notebook should be executable in one go\n",
        "                       without a single error logged. ]\n",
        "\n",
        "3.   Each and every logic should have proper comments.\n",
        "4. You may add as many number of charts you want. Make Sure for each and every chart the following format should be answered.\n",
        "        \n",
        "\n",
        "```\n",
        "# Chart visualization code\n",
        "```\n",
        "            \n",
        "\n",
        "*   Why did you pick the specific chart?\n",
        "*   What is/are the insight(s) found from the chart?\n",
        "* Will the gained insights help creating a positive business impact?\n",
        "Are there any insights that lead to negative growth? Justify with specific reason.\n",
        "\n",
        "5. You have to create at least 20 logical & meaningful charts having important insights.\n",
        "\n",
        "\n",
        "[ Hints : - Do the Vizualization in  a structured way while following \"UBM\" Rule.\n",
        "\n",
        "U - Univariate Analysis,\n",
        "\n",
        "B - Bivariate Analysis (Numerical - Categorical, Numerical - Numerical, Categorical - Categorical)\n",
        "\n",
        "M - Multivariate Analysis\n",
        " ]\n",
        "\n",
        "\n",
        "\n"
      ],
      "metadata": {
        "id": "ZrxVaUj-hHfC"
      }
    },
    {
      "cell_type": "markdown",
      "source": [
        "# ***Let's Begin !***"
      ],
      "metadata": {
        "id": "O_i_v8NEhb9l"
      }
    },
    {
      "cell_type": "markdown",
      "source": [
        "## ***1. Know Your Data***"
      ],
      "metadata": {
        "id": "HhfV-JJviCcP"
      }
    },
    {
      "cell_type": "markdown",
      "source": [
        "### Import Libraries"
      ],
      "metadata": {
        "id": "Y3lxredqlCYt"
      }
    },
    {
      "cell_type": "code",
      "source": [
        "# Import Libraries\n",
        "import numpy as np\n",
        "import pandas as pd\n",
        "import matplotlib.pyplot as plt\n",
        "import seaborn as sns"
      ],
      "metadata": {
        "id": "M8Vqi-pPk-HR"
      },
      "execution_count": null,
      "outputs": []
    },
    {
      "cell_type": "markdown",
      "source": [
        "### Dataset Loading"
      ],
      "metadata": {
        "id": "3RnN4peoiCZX"
      }
    },
    {
      "cell_type": "code",
      "source": [
        "# Load Dataset\n",
        "## added github raw link for dataset so that it could not ask for permission unlike in google drive\n",
        "url = \"https://raw.githubusercontent.com/yogesh1199/Projects/main/Telecom%20Churn.csv\"\n",
        "telecome_df = pd.read_csv(url)"
      ],
      "metadata": {
        "id": "4CkvbW_SlZ_R"
      },
      "execution_count": null,
      "outputs": []
    },
    {
      "cell_type": "markdown",
      "source": [
        "### Dataset First View"
      ],
      "metadata": {
        "id": "x71ZqKXriCWQ"
      }
    },
    {
      "cell_type": "code",
      "source": [
        "# Dataset First Look\n",
        "## featching top 10 rows for dataset\n",
        "telecome_df.head(10)"
      ],
      "metadata": {
        "id": "LWNFOSvLl09H"
      },
      "execution_count": null,
      "outputs": []
    },
    {
      "cell_type": "markdown",
      "source": [
        "### Dataset Rows & Columns count"
      ],
      "metadata": {
        "id": "7hBIi_osiCS2"
      }
    },
    {
      "cell_type": "code",
      "source": [
        "# Dataset Rows & Columns count\n",
        "data_info = telecome_df.shape\n",
        "rows = data_info[0]\n",
        "cols = data_info[1]\n",
        "print(\"data shape\",data_info)\n",
        "print(\"NO. Of rows: \",rows)\n",
        "print(\"NO. Of cols: \",cols)"
      ],
      "metadata": {
        "id": "Kllu7SJgmLij"
      },
      "execution_count": null,
      "outputs": []
    },
    {
      "cell_type": "markdown",
      "source": [
        "### Dataset Information"
      ],
      "metadata": {
        "id": "JlHwYmJAmNHm"
      }
    },
    {
      "cell_type": "code",
      "source": [
        "# Dataset Info\n",
        "## Here, we are retrieving information related to checking the existence of null values and obtaining information about the data types of each and every column.\n",
        "telecome_df.info()"
      ],
      "metadata": {
        "id": "e9hRXRi6meOf"
      },
      "execution_count": null,
      "outputs": []
    },
    {
      "cell_type": "markdown",
      "source": [
        "#### Duplicate Values"
      ],
      "metadata": {
        "id": "35m5QtbWiB9F"
      }
    },
    {
      "cell_type": "code",
      "source": [
        "# Dataset Duplicate Value Count\n",
        "duplicate_rows = telecome_df[telecome_df.duplicated(keep=False)]\n",
        "if len(duplicate_rows) > 0:\n",
        "  duplicate_rows\n",
        "else:\n",
        "  print(\"No duplicate values in Dataset\")"
      ],
      "metadata": {
        "id": "1sLdpKYkmox0"
      },
      "execution_count": null,
      "outputs": []
    },
    {
      "cell_type": "markdown",
      "source": [
        "#### Missing Values/Null Values"
      ],
      "metadata": {
        "id": "PoPl-ycgm1ru"
      }
    },
    {
      "cell_type": "code",
      "source": [
        "# Missing Values/Null Values Count\n",
        "telecome_df.isna().sum()"
      ],
      "metadata": {
        "id": "GgHWkxvamxVg"
      },
      "execution_count": null,
      "outputs": []
    },
    {
      "cell_type": "code",
      "source": [
        "# Visualizing the missing values\n",
        "plt.figure(figsize=(10, 6))\n",
        "plt.imshow(telecome_df.isnull(), cmap='viridis', aspect='auto')\n",
        "plt.xticks(range(len(telecome_df.columns)), telecome_df.columns, rotation=90)\n",
        "plt.colorbar(label='Missing Values')\n",
        "plt.title('Missing Value Heatmap')\n",
        "\n",
        "plt.show()"
      ],
      "metadata": {
        "id": "3q5wnI3om9sJ"
      },
      "execution_count": null,
      "outputs": []
    },
    {
      "cell_type": "markdown",
      "source": [
        "### What did you know about your dataset?"
      ],
      "metadata": {
        "id": "H0kj-8xxnORC"
      }
    },
    {
      "cell_type": "markdown",
      "source": [
        "Based on the information we fetch from dataset, here's what we can infer about it:\n",
        "\n",
        "- The dataset contains 3333 entries (rows) with 22 columns.\n",
        "- The columns in the dataset are named: \"State,\" \"Account length,\" \"Area code,\" \"International plan,\" \"Voice mail plan,\" \"Number vmail messages,\" \"Total day minutes,\" \"Total day calls,\" \"Total day charge,\" \"Total eve minutes,\" \"Total eve calls,\" \"Total eve charge,\" \"Total night minutes,\" \"Total night calls,\" \"Total night charge,\" \"Total intl minutes,\" \"Total intl calls,\" \"Total intl charge,\" \"Customer service calls,\" and \"Churn.\" which contains Non Null values.\n",
        "- The dataset include information about telecom customer activities and behavior, including usage metrics, plan features, and whether a customer has churned.\n",
        "- The data types of the columns include boolean (`bool`), integer (`int64`), float (`float64`), and object (`object`).\n",
        "- The \"Churn\" column appears to be of boolean data type (`bool`), which indicate whether a customer has churned (`True`) or not (`False`).\n",
        "\n",
        "Based on the information retreived, the dataset is related to telecom customer behavior analysis, particularly regarding factors that influence customer churn. The dataset includes various features related to customer activity and plan details, and the \"Churn\" column  serves as the target variable to predict customer churn."
      ],
      "metadata": {
        "id": "gfoNAAC-nUe_"
      }
    },
    {
      "cell_type": "markdown",
      "source": [
        "## ***2. Understanding Your Variables***"
      ],
      "metadata": {
        "id": "nA9Y7ga8ng1Z"
      }
    },
    {
      "cell_type": "code",
      "source": [
        "# Dataset Columns\n",
        "telecome_df.columns"
      ],
      "metadata": {
        "id": "j7xfkqrt5Ag5"
      },
      "execution_count": null,
      "outputs": []
    },
    {
      "cell_type": "code",
      "source": [
        "# Dataset Describe\n",
        "telecome_df.describe()"
      ],
      "metadata": {
        "id": "DnOaZdaE5Q5t"
      },
      "execution_count": null,
      "outputs": []
    },
    {
      "cell_type": "markdown",
      "source": [
        "### Variables Description"
      ],
      "metadata": {
        "id": "PBTbrJXOngz2"
      }
    },
    {
      "cell_type": "markdown",
      "source": [
        "The dataset comprises several important features that offer a comprehensive view of customer activity and behavior:\n",
        "\n",
        "**State and Area Code**: These columns represent the geographic location of the customers. While state information might indicate regional variations, area codes could provide insights into localized patterns.\n",
        "\n",
        "**Account Length**: This feature represents the duration for which a customer has subscribed to the service. Longer account lengths might indicate customer loyalty and satisfaction.\n",
        "\n",
        "**International Plan and Voice Mail Plan**: These categorical features highlight whether customers have subscribed to additional services. Customers with an international plan might be less likely to churn due to having specific needs that the plan addresses. On the other hand, the voice mail plan might indicate engagement and communication.\n",
        "\n",
        "**Number of Voice Mail Messages**: This metric indicates how actively customers engage with voice mail services. Higher engagement might indicate better communication and satisfaction.\n",
        "\n",
        "**Total Day, Evening, and Night Minutes, Calls, and Charges**: These metrics reflect the extent of customer engagement at different times of the day. Unusually high charges or call volumes might indicate dissatisfaction.\n",
        "\n",
        "**Total International Minutes, Calls, and Charges**: Similar to domestic calls, international calls and charges can offer insights into specialized customer needs and their satisfaction level.\n",
        "\n",
        "**Customer Service Calls**: The number of calls made to customer service is an important indicator. Frequent calls might signify unresolved issues, which could contribute to churn.\n",
        "\n",
        "**Churn**: This binary label indicates whether a customer has churned or not. This is the target variable that we aim to predict and understand the contributing factors.\n"
      ],
      "metadata": {
        "id": "aJV4KIxSnxay"
      }
    },
    {
      "cell_type": "markdown",
      "source": [
        "### Check Unique Values for each variable."
      ],
      "metadata": {
        "id": "u3PMJOP6ngxN"
      }
    },
    {
      "cell_type": "code",
      "source": [
        "# Check Unique Values for each variable.\n",
        "for cols in telecome_df.columns:\n",
        "  print(cols , telecome_df[cols].unique())\n",
        "  print()"
      ],
      "metadata": {
        "id": "zms12Yq5n-jE"
      },
      "execution_count": null,
      "outputs": []
    },
    {
      "cell_type": "markdown",
      "source": [
        "## 3. ***Data Wrangling***"
      ],
      "metadata": {
        "id": "dauF4eBmngu3"
      }
    },
    {
      "cell_type": "markdown",
      "source": [
        "### Data Wrangling Code"
      ],
      "metadata": {
        "id": "bKJF3rekwFvQ"
      }
    },
    {
      "cell_type": "code",
      "source": [
        "# Write your code to make your dataset analysis ready.\n",
        "## __ NOT REQUIRED __"
      ],
      "metadata": {
        "id": "wk-9a2fpoLcV"
      },
      "execution_count": null,
      "outputs": []
    },
    {
      "cell_type": "markdown",
      "source": [
        "### What all manipulations have you done and insights you found?"
      ],
      "metadata": {
        "id": "MSa1f5Uengrz"
      }
    },
    {
      "cell_type": "markdown",
      "source": [
        "After analysing the data we found that no manipulations are required as we can go starightforward with data"
      ],
      "metadata": {
        "id": "LbyXE7I1olp8"
      }
    },
    {
      "cell_type": "markdown",
      "source": [
        "## ***4. Data Vizualization, Storytelling & Experimenting with charts : Understand the relationships between variables***"
      ],
      "metadata": {
        "id": "GF8Ens_Soomf"
      }
    },
    {
      "cell_type": "markdown",
      "source": [
        "#### Chart - 1"
      ],
      "metadata": {
        "id": "0wOQAZs5pc--"
      }
    },
    {
      "cell_type": "code",
      "source": [
        "# Chart - 1 visualization code\n",
        "churn_count = telecome_df['Churn'].value_counts()\n",
        "\n",
        "\n",
        "ax = sns.countplot(x = telecome_df.Churn)\n",
        "## calulating the %ages of each annotation\n",
        "total = len(telecome_df)\n",
        "percentages = [(count / total) * 100 for count in churn_count]\n",
        "\n",
        "# Annotate bars with percentages\n",
        "for i, p in enumerate(ax.patches):\n",
        "    height = p.get_height()\n",
        "    ax.annotate(f'{percentages[i]:.2f}%', (p.get_x() + p.get_width() / 2., height), ha='center', va='bottom')\n",
        "\n",
        "plt.xlabel('Churn')\n",
        "plt.ylabel('customers')\n",
        "plt.title('Customer Churn Plot')\n",
        "plt.show()\n"
      ],
      "metadata": {
        "id": "7v_ESjsspbW7"
      },
      "execution_count": null,
      "outputs": []
    },
    {
      "cell_type": "markdown",
      "source": [
        "##### 1. Why did you pick the specific chart?"
      ],
      "metadata": {
        "id": "K5QZ13OEpz2H"
      }
    },
    {
      "cell_type": "markdown",
      "source": [
        "The selection of a specific chart,countplot to visualize how many coustomers are associated with orange telecome.\n"
      ],
      "metadata": {
        "id": "XESiWehPqBRc"
      }
    },
    {
      "cell_type": "markdown",
      "source": [
        "##### 2. What is/are the insight(s) found from the chart?"
      ],
      "metadata": {
        "id": "lQ7QKXXCp7Bj"
      }
    },
    {
      "cell_type": "markdown",
      "source": [
        "After visualisation we found that 85.51% of users have deactivated there account and 14.49% of users have remain activated in Orange Telecome"
      ],
      "metadata": {
        "id": "C_j1G7yiqdRP"
      }
    },
    {
      "cell_type": "markdown",
      "source": [
        "##### 3. Will the gained insights help creating a positive business impact?\n",
        "Are there any insights that lead to negative growth? Justify with specific reason."
      ],
      "metadata": {
        "id": "448CDAPjqfQr"
      }
    },
    {
      "cell_type": "markdown",
      "source": [
        "Yes, the visualization will provide impact on business as follow:\n",
        "\n",
        "**Positive Impact:**  Identifying a high churn rate of 85.51% allows for targeted retention strategies, improved customer experiences, and enhanced customer engagement to boost loyalty.\n",
        "\n",
        "**Negative Impact:**  Such a substantial churn rate could damage reputation, result in revenue loss, create competitive disadvantages, and strain operations, necessitating comprehensive strategies for sustained growth"
      ],
      "metadata": {
        "id": "3cspy4FjqxJW"
      }
    },
    {
      "cell_type": "markdown",
      "source": [
        "#### Chart - 2"
      ],
      "metadata": {
        "id": "KSlN3yHqYklG"
      }
    },
    {
      "cell_type": "code",
      "source": [
        "# Chart - 2 visualization code\n",
        "## data visualization with states and churn\n",
        "\n",
        "grouped = telecome_df.groupby(['State', 'Churn']).size().reset_index(name='Count')\n",
        "plt.figure(figsize=(25,10))\n",
        "sns.barplot(data=grouped,x='State',y='Count',hue='Churn')\n",
        "\n",
        "plt.xlabel('State',fontsize= 25)\n",
        "plt.ylabel('Churn Count',fontsize= 25)\n",
        "plt.title('State vs Churn Plot',fontsize= 25)\n",
        "plt.show()\n"
      ],
      "metadata": {
        "id": "R4YgtaqtYklH"
      },
      "execution_count": null,
      "outputs": []
    },
    {
      "cell_type": "markdown",
      "source": [
        "##### 1. Why did you pick the specific chart?"
      ],
      "metadata": {
        "id": "t6dVpIINYklI"
      }
    },
    {
      "cell_type": "markdown",
      "source": [
        "The selection of a specific chart, like a bar plot, is based on its suitability for visualizing categorical data (states) and comparing the distribution of a categorical variable (churn status). This choice effectively represents counts, allows easy comparison, and uses color to differentiate categories, ensuring clear and concise communication of insights"
      ],
      "metadata": {
        "id": "5aaW0BYyYklI"
      }
    },
    {
      "cell_type": "markdown",
      "source": [
        "##### 2. What is/are the insight(s) found from the chart?"
      ],
      "metadata": {
        "id": "ijmpgYnKYklI"
      }
    },
    {
      "cell_type": "markdown",
      "source": [
        "From the chart depicting the distribution of churn status across different states\n",
        "\n",
        "The churn status varies across different states. For instance, the highest churn appears to be in NJ, while WV has a relatively lower churn rate."
      ],
      "metadata": {
        "id": "PSx9atu2YklI"
      }
    },
    {
      "cell_type": "markdown",
      "source": [
        "##### 3. Will the gained insights help creating a positive business impact?\n",
        "Are there any insights that lead to negative growth? Justify with specific reason."
      ],
      "metadata": {
        "id": "-JiQyfWJYklI"
      }
    },
    {
      "cell_type": "markdown",
      "source": [
        "**Positive Impact:** The insights gained about varying churn rates across states can drive targeted strategies for customer retention, potentially leading to reduced churn and improved customer loyalty.\n",
        "\n",
        "**Negative Impact:** While insights provide targeted strategies, focusing solely on states with high churn might divert resources from states with lower churn, potentially affecting growth opportunities in those regions. A balanced approach is needed to avoid neglecting regions with growth potential."
      ],
      "metadata": {
        "id": "BcBbebzrYklV"
      }
    },
    {
      "cell_type": "markdown",
      "source": [
        "#### Chart - 3"
      ],
      "metadata": {
        "id": "EM7whBJCYoAo"
      }
    },
    {
      "cell_type": "code",
      "source": [
        "# Chart - 3 visualization code\n",
        "## Area Code VS Churn\n",
        "\n",
        "grouped = telecome_df.groupby(['Area code', 'Churn']).size().reset_index(name='Count')\n",
        "plt.figure(figsize=(6,10))\n",
        "sns.barplot(data=grouped,x='Area code',y='Count',hue='Churn')\n",
        "\n",
        "plt.xlabel('Area Code',fontsize= 25)\n",
        "plt.ylabel('Churn Count',fontsize= 25)\n",
        "plt.title('Area Code vs Churn',fontsize= 25)\n",
        "plt.show()\n"
      ],
      "metadata": {
        "id": "t6GMdE67YoAp"
      },
      "execution_count": null,
      "outputs": []
    },
    {
      "cell_type": "markdown",
      "source": [
        "##### 1. Why did you pick the specific chart?"
      ],
      "metadata": {
        "id": "fge-S5ZAYoAp"
      }
    },
    {
      "cell_type": "markdown",
      "source": [
        "The selection of a specific chart, like a bar plot, is based on its suitability for visualizing categorical data Area Code and comparing the distribution of a categorical variable (churn status). This choice effectively represents counts, allows easy comparison, and uses color to differentiate categories, ensuring clear and concise communication of insights"
      ],
      "metadata": {
        "id": "5dBItgRVYoAp"
      }
    },
    {
      "cell_type": "markdown",
      "source": [
        "##### 2. What is/are the insight(s) found from the chart?"
      ],
      "metadata": {
        "id": "85gYPyotYoAp"
      }
    },
    {
      "cell_type": "markdown",
      "source": [
        "The churn status varies across different Area Codes. For instance, the highest churn appears to be in area code 415, while area code 510 has a relatively lower churn rate."
      ],
      "metadata": {
        "id": "4jstXR6OYoAp"
      }
    },
    {
      "cell_type": "markdown",
      "source": [
        "##### 3. Will the gained insights help creating a positive business impact?\n",
        "Are there any insights that lead to negative growth? Justify with specific reason."
      ],
      "metadata": {
        "id": "RoGjAbkUYoAp"
      }
    },
    {
      "cell_type": "markdown",
      "source": [
        "**Positive Impact:** The insights gained about varying churn rates across Area code can drive targeted strategies for customer retention, potentially leading to reduced churn and improved customer loyalty.\n",
        "\n",
        "**Negative Impact:** While insights provide targeted strategies, focusing solely on Area Code with high churn might divert resources from states with lower churn, potentially affecting growth opportunities in those regions. A balanced approach is needed to avoid neglecting regions with growth potential."
      ],
      "metadata": {
        "id": "zfJ8IqMcYoAp"
      }
    },
    {
      "cell_type": "markdown",
      "source": [
        "#### Chart - 4"
      ],
      "metadata": {
        "id": "4Of9eVA-YrdM"
      }
    },
    {
      "cell_type": "code",
      "source": [
        "# Chart - 4 visualization code\n",
        "## Area Code VS International Plan\n",
        "\n",
        "grouped = telecome_df.groupby(['Area code', 'International plan', 'Churn']).size().reset_index(name='Count')\n",
        "##sns.barplot(data=grouped, x='Area code', y='Count', hue='International plan')\n",
        "\n",
        "# Create a pivot table for pie chart\n",
        "pivot = grouped.pivot_table(index=['Area code', 'International plan'], columns='Churn', values='Count', fill_value=0)\n",
        "pivot\n"
      ],
      "metadata": {
        "id": "irlUoxc8YrdO"
      },
      "execution_count": null,
      "outputs": []
    },
    {
      "cell_type": "code",
      "source": [
        "# Create subplots for True and False churn\n",
        "fig, axes = plt.subplots(1, 2, figsize=(12, 6))\n",
        "\n",
        "# Plot for True churn\n",
        "axes[0].pie(pivot[True], labels=pivot.index, autopct='%1.1f%%', startangle=90)\n",
        "axes[0].set_title('Churned (True)')\n",
        "axes[0].axis('equal')  # Equal aspect ratio ensures that pie is drawn as a circle.\n",
        "\n",
        "# Plot for False churn\n",
        "axes[1].pie(pivot[False], labels=pivot.index, autopct='%1.1f%%', startangle=90)\n",
        "axes[1].set_title('Not Churned (False)')\n",
        "axes[1].axis('equal')  # Equal aspect ratio ensures that pie is drawn as a circle.\n",
        "\n",
        "plt.suptitle('Churn Distribution by Area Code and International Plan (Subplots)')\n",
        "##plt.legend(title='Churn', labels=['Churned', 'Not Churned'], loc='upper right')\n",
        "\n",
        "plt.show()"
      ],
      "metadata": {
        "id": "CTvotxY9Dp0G"
      },
      "execution_count": null,
      "outputs": []
    },
    {
      "cell_type": "markdown",
      "source": [
        "##### 1. Why did you pick the specific chart?"
      ],
      "metadata": {
        "id": "iky9q4vBYrdO"
      }
    },
    {
      "cell_type": "markdown",
      "source": [
        "\n",
        "The choice of using pie charts in this context was made to visually represent the proportion of churned and not churned customers across different combinations of area codes and international plans. Pie charts are effective for showing parts of a whole, making it easy to compare the distribution of churn statuses within each category. However, when comparing multiple categories, it's important to consider potential limitations in conveying precise comparisons due to the circular nature of pie charts"
      ],
      "metadata": {
        "id": "aJRCwT6DYrdO"
      }
    },
    {
      "cell_type": "markdown",
      "source": [
        "##### 2. What is/are the insight(s) found from the chart?"
      ],
      "metadata": {
        "id": "F6T5p64dYrdO"
      }
    },
    {
      "cell_type": "markdown",
      "source": [
        "\n",
        "The insights from the chart reveal that in cases of \"True\" churn, the area code 415 has a higher proportion of \"Yes\" for international plans (12.8%) compared to the other area codes. Additionally, the relatively lower proportion of \"No\" international plans in area code 415 (36.9%) might suggest that international plans could be a contributing factor to churn in that area. In contrast, for \"False\" churn, area code 415 has a higher proportion of \"No\" international plans (46.7%), indicating that customers without international plans are less likely to churn in that area. This suggests that area code 415 could benefit from targeted strategies to address churn based on international plan preferences."
      ],
      "metadata": {
        "id": "Xx8WAJvtYrdO"
      }
    },
    {
      "cell_type": "markdown",
      "source": [
        "#### Chart - 5"
      ],
      "metadata": {
        "id": "bamQiAODYuh1"
      }
    },
    {
      "cell_type": "code",
      "source": [
        "# Chart - 5 visualization code\n",
        "## Area Code VS International Plan\n",
        "\n",
        "grouped = telecome_df.groupby(['Area code', 'Voice mail plan', 'Churn']).size().reset_index(name='Count')\n",
        "##sns.barplot(data=grouped, x='Area code', y='Count', hue='International plan')\n",
        "\n",
        "# Create a pivot table for pie chart\n",
        "pivot = grouped.pivot_table(index=['Area code', 'Voice mail plan'], columns='Churn', values='Count', fill_value=0)\n",
        "pivot"
      ],
      "metadata": {
        "id": "TIJwrbroYuh3"
      },
      "execution_count": null,
      "outputs": []
    },
    {
      "cell_type": "code",
      "source": [
        "# Create subplots for True and False churn\n",
        "fig, axes = plt.subplots(1, 2, figsize=(12, 6))\n",
        "\n",
        "# Plot for True churn\n",
        "axes[0].pie(pivot[True], labels=pivot.index, autopct='%1.1f%%', startangle=90)\n",
        "axes[0].set_title('Churned (True)')\n",
        "axes[0].axis('equal')  # Equal aspect ratio ensures that pie is drawn as a circle.\n",
        "\n",
        "# Plot for False churn\n",
        "axes[1].pie(pivot[False], labels=pivot.index, autopct='%1.1f%%', startangle=90)\n",
        "axes[1].set_title('Not Churned (False)')\n",
        "axes[1].axis('equal')  # Equal aspect ratio ensures that pie is drawn as a circle.\n",
        "\n",
        "plt.suptitle('Churn Distribution by Area Code and Voice mail plan (Subplots)')\n",
        "##plt.legend(title='Churn', labels=['Churned', 'Not Churned'], loc='upper right')\n",
        "\n",
        "plt.show()"
      ],
      "metadata": {
        "id": "nqDroWahIiVS"
      },
      "execution_count": null,
      "outputs": []
    },
    {
      "cell_type": "code",
      "source": [],
      "metadata": {
        "id": "6QYWDcZOJNzI"
      },
      "execution_count": null,
      "outputs": []
    },
    {
      "cell_type": "markdown",
      "source": [
        "##### 1. Why did you pick the specific chart?"
      ],
      "metadata": {
        "id": "QHF8YVU7Yuh3"
      }
    },
    {
      "cell_type": "markdown",
      "source": [
        "\n",
        "The choice of using pie charts in this context was made to visually represent the proportion of churned and not churned customers across different combinations of area codes and international plans. Pie charts are effective for showing parts of a whole, making it easy to compare the distribution of churn statuses within each category. However, when comparing multiple categories, it's important to consider potential limitations in conveying precise comparisons due to the circular nature of pie charts"
      ],
      "metadata": {
        "id": "dcxuIMRPYuh3"
      }
    },
    {
      "cell_type": "markdown",
      "source": [
        "##### 2. What is/are the insight(s) found from the chart?"
      ],
      "metadata": {
        "id": "GwzvFGzlYuh3"
      }
    },
    {
      "cell_type": "markdown",
      "source": [
        "The insights from the chart reveal that in cases of \"True\" churn, the area code 415 has a higher proportion of \"Yes\" for voice mail plans (7.0%) compared to the other area codes. Additionally, the relatively lower proportion of \"No\" international plans in area code 415 (41.8%)  suggest that Voice mail plans could be a contributing factor to churn in that area. In contrast, for \"False\" churn, area code 415 has a higher proportion of \"No\" voice mail plans (34.5%), indicating that customers without international plans are less likely to churn in that area. This suggests that area code 415 could benefit from targeted strategies to address churn based on voice mail plan preferences."
      ],
      "metadata": {
        "id": "uyqkiB8YYuh3"
      }
    },
    {
      "cell_type": "markdown",
      "source": [
        "#### Chart - 6"
      ],
      "metadata": {
        "id": "OH-pJp9IphqM"
      }
    },
    {
      "cell_type": "code",
      "source": [
        "# Chart - 6 visualization code\n",
        "fig, axes = plt.subplots(1, 2, figsize=(12, 6), sharey=True)\n",
        "churn_val = telecome_df[telecome_df['Churn'] == True]\n",
        "non_churn_val = telecome_df[telecome_df['Churn'] != True]\n",
        "\n",
        "# Bar plot for churned customers\n",
        "churn_val = telecome_df[telecome_df['Churn'] == True]\n",
        "churn_counts = churn_val['Customer service calls'].value_counts().sort_index()\n",
        "axes[0].bar(churn_counts.index, churn_counts.values, color='red', alpha=0.7)\n",
        "axes[0].set_title('Bar Plot of Customer Service Calls (Churned)')\n",
        "axes[0].set_xlabel('Number of Calls')\n",
        "axes[0].set_ylabel('Frequency')\n",
        "\n",
        "# Bar plot for non-churned customers\n",
        "non_churn_val = telecome_df[telecome_df['Churn'] != True]\n",
        "non_churn_counts = non_churn_val['Customer service calls'].value_counts().sort_index()\n",
        "axes[1].bar(non_churn_counts.index, non_churn_counts.values, color='green', alpha=0.7)\n",
        "axes[1].set_title('Bar Plot of Customer Service Calls (Non-Churned)')\n",
        "axes[1].set_xlabel('Number of Calls')\n",
        "axes[1].set_ylabel('Frequency')\n",
        "\n",
        "plt.tight_layout()\n",
        "plt.show()"
      ],
      "metadata": {
        "id": "kuRf4wtuphqN"
      },
      "execution_count": null,
      "outputs": []
    },
    {
      "cell_type": "markdown",
      "source": [
        "##### 1. Why did you pick the specific chart?"
      ],
      "metadata": {
        "id": "bbFf2-_FphqN"
      }
    },
    {
      "cell_type": "markdown",
      "source": [
        "The selection of a specific chart, like a bar plot, is based on its suitability for visualizing categorical data (No of Calls) and comparing the distribution of a categorical variable (churn status). This choice effectively represents counts, allows easy comparison, and uses color to differentiate categories, ensuring clear and concise communication of insights"
      ],
      "metadata": {
        "id": "loh7H2nzphqN"
      }
    },
    {
      "cell_type": "markdown",
      "source": [
        "##### 2. What is/are the insight(s) found from the chart?"
      ],
      "metadata": {
        "id": "_ouA3fa0phqN"
      }
    },
    {
      "cell_type": "markdown",
      "source": [
        "When we explore customer behavior in churn analysis, a clear trend emerges: for those who churn, the most frequent number of service calls is '1', while '9' sees the fewest interactions. Similarly, among customers who stay, '1' again stands out as the most common, with '8' being the least frequent. These patterns paint a straightforward picture of customer engagement, shedding light on the connection between service calls and churn outcomes"
      ],
      "metadata": {
        "id": "VECbqPI7phqN"
      }
    },
    {
      "cell_type": "markdown",
      "source": [
        "#### Chart - 7"
      ],
      "metadata": {
        "id": "PIIx-8_IphqN"
      }
    },
    {
      "cell_type": "code",
      "source": [
        "# Chart - 7 visualization code\n",
        "cname = ['Account length', 'Number vmail messages', 'Total day minutes',\n",
        "       'Total day calls', 'Total day charge', 'Total eve minutes',\n",
        "       'Total eve calls', 'Total eve charge', 'Total night minutes',\n",
        "       'Total night calls', 'Total night charge', 'Total intl minutes',\n",
        "       'Total intl calls', 'Total intl charge', 'Customer service calls']\n",
        "\n",
        "# Plotting side-by-side Box Plots\n",
        "num_cols = len(cname)\n",
        "num_rows = (num_cols + 1) // 2  # Adjust for odd number of columns\n",
        "\n",
        "fig, axes = plt.subplots(num_rows, 2, figsize=(15, 20))\n",
        "\n",
        "for i, column in enumerate(cname):\n",
        "    row_idx = i // 2\n",
        "    col_idx = i % 2\n",
        "    sns.boxplot(x=telecome_df[column], palette=\"deep\", ax=axes[row_idx, col_idx])\n",
        "    axes[row_idx, col_idx].set_title(column)\n",
        "    axes[row_idx, col_idx].set_xlabel(column)\n",
        "\n",
        "# Adjust layout\n",
        "plt.tight_layout(pad=3)\n",
        "plt.show()"
      ],
      "metadata": {
        "id": "lqAIGUfyphqO"
      },
      "execution_count": null,
      "outputs": []
    },
    {
      "cell_type": "markdown",
      "source": [
        "#### Chart - 8 - Correlation Heatmap"
      ],
      "metadata": {
        "id": "NC_X3p0fY2L0"
      }
    },
    {
      "cell_type": "code",
      "source": [
        "# Correlation Heatmap visualization code\n",
        "f, ax = plt.subplots(figsize=(18,12))  #Width,height\n",
        "\n",
        "#Generating Corelation Matrix\n",
        "corr = telecome_df[cname].corr()\n",
        "\n",
        "#Plot using Seaborn library\n",
        "sns.heatmap(corr,mask=np.zeros_like(corr, dtype=np.bool), cmap=sns.diverging_palette(220,10, as_cmap=True),\\\n",
        "            square=True, ax=ax,annot=True,linewidths=1 , linecolor= 'black',vmin = -1, vmax = 1)\n",
        "\n",
        "plt.show()"
      ],
      "metadata": {
        "id": "xyC9zolEZNRQ"
      },
      "execution_count": null,
      "outputs": []
    },
    {
      "cell_type": "markdown",
      "source": [
        "#### Chart - 9 - Pair Plot"
      ],
      "metadata": {
        "id": "q29F0dvdveiT"
      }
    },
    {
      "cell_type": "code",
      "source": [
        "# Pair Plot visualization code\n",
        "\n",
        "selected_features = ['Total day calls', 'Total eve calls', 'Total night calls', 'Total intl calls','Churn']\n",
        "sns.set(style='ticks')\n",
        "sns.pairplot(telecome_df[selected_features], kind='scatter', diag_kind='hist',hue='Churn')\n",
        "\n",
        "plt.show()"
      ],
      "metadata": {
        "id": "o58-TEIhveiU"
      },
      "execution_count": null,
      "outputs": []
    },
    {
      "cell_type": "markdown",
      "source": [
        "## **5. Solution to Business Objective**"
      ],
      "metadata": {
        "id": "JcMwzZxoAimU"
      }
    },
    {
      "cell_type": "markdown",
      "source": [
        "#### What do you suggest the client to achieve Business Objective ?\n",
        "Explain Briefly."
      ],
      "metadata": {
        "id": "8G2x9gOozGDZ"
      }
    },
    {
      "cell_type": "markdown",
      "source": [
        "Based on the churn analysis conducted on the dataset, there are several key insights that can guide the client's actions to achieve their business objective:\n",
        "\n",
        "**International Plan Impact:** Customers with an international plan seem to have a notable impact on churn. It's essential for the client to focus on understanding the reasons behind this trend. Initiating targeted outreach to customers with international plans and addressing their specific needs could help in retention efforts.\n",
        "\n",
        "**Customer Service Calls**: The frequency of customer service calls plays a role in churn. The analysis reveals that those who churn have a tendency to make more customer service calls. The client can use this insight to identify the reasons behind such calls and proactively address issues to reduce churn risk.\n",
        "\n",
        "**Area Code Insights:** The relationship between area codes, international plans, and churn is noteworthy. Targeted strategies can be implemented for specific area codes where churn is prevalent. This might include optimizing international plan offerings, customer support, or addressing unique regional challenges.\n",
        "\n",
        "**Engagement Metrics:** Observing engagement metrics like the number of voice mail messages and total minutes of usage during different times of the day can provide insights into customer satisfaction and loyalty. The client should focus on maintaining high engagement levels through effective communication and service.\n",
        "\n",
        "**Non-Churn Patterns:** Understanding the behaviors and attributes of non-churned customers is equally important. The client can leverage these insights to identify and reward loyal customers, potentially inspiring retention and advocacy efforts.\n",
        "\n",
        "**Customer Segmentation:** Segmenting customers based on their usage patterns, service preferences, and demographics can lead to targeted retention strategies. By tailoring offerings to specific customer segments, the client can enhance customer satisfaction and loyalty.\n",
        "\n",
        "**Pricing Strategies:** The analysis of charges and their impact on churn can guide the client in optimizing their pricing strategies. Ensuring that charges align with perceived value can help in reducing price-related churn.\n",
        "\n",
        "**Communication Strategy:** Effective communication can play a pivotal role in customer retention. The client can use the insights gained from the analysis to craft personalized communication strategies that address customer needs, provide value, and maintain positive relationships.\n",
        "\n",
        "**Continuous Monitoring:** Churn analysis is an ongoing process. The client should establish a system to continuously monitor churn metrics and customer behavior. This will allow them to adapt strategies based on evolving trends and maintain a proactive approach to customer retention."
      ],
      "metadata": {
        "id": "pASKb0qOza21"
      }
    },
    {
      "cell_type": "markdown",
      "source": [
        "# **Conclusion**"
      ],
      "metadata": {
        "id": "gCX9965dhzqZ"
      }
    },
    {
      "cell_type": "markdown",
      "source": [
        "\n",
        "Through deep churn analysis, we've uncovered insights for the telecom industry. Strategies targeting customers with international plans, efficient customer service, localized approaches, engagement enhancement, personalized communication, and price alignment are key to reducing churn. Ongoing monitoring ensures adaptability for long-term growth and customer satisfaction."
      ],
      "metadata": {
        "id": "Fjb1IsQkh3yE"
      }
    },
    {
      "cell_type": "markdown",
      "source": [
        "### ***Hurrah! You have successfully completed your EDA Capstone Project !!!***"
      ],
      "metadata": {
        "id": "gIfDvo9L0UH2"
      }
    }
  ]
}